{
 "cells": [
  {
   "cell_type": "markdown",
   "id": "371582ed",
   "metadata": {},
   "source": [
    "# Linear Regression"
   ]
  },
  {
   "cell_type": "code",
   "execution_count": 1,
   "id": "4260c483",
   "metadata": {},
   "outputs": [],
   "source": [
    "import numpy as np\n",
    "import matplotlib.pyplot as plt\n",
    "import pandas as pd\n",
    "import math as math"
   ]
  },
  {
   "cell_type": "markdown",
   "id": "ed7e1144",
   "metadata": {},
   "source": [
    "## 1. Data Exploration "
   ]
  },
  {
   "cell_type": "markdown",
   "id": "8286e945",
   "metadata": {},
   "source": [
    "Data used here is Ames House pricing dataset, which could be found on Kaggle [here](https://www.kaggle.com/competitions/house-prices-advanced-regression-techniques/data?select=train.csv)."
   ]
  },
  {
   "cell_type": "markdown",
   "id": "03f4969c",
   "metadata": {},
   "source": [
    "### Read Dataset"
   ]
  },
  {
   "cell_type": "code",
   "execution_count": 2,
   "id": "7072445d",
   "metadata": {},
   "outputs": [
    {
     "data": {
      "text/html": [
       "<div>\n",
       "<style scoped>\n",
       "    .dataframe tbody tr th:only-of-type {\n",
       "        vertical-align: middle;\n",
       "    }\n",
       "\n",
       "    .dataframe tbody tr th {\n",
       "        vertical-align: top;\n",
       "    }\n",
       "\n",
       "    .dataframe thead th {\n",
       "        text-align: right;\n",
       "    }\n",
       "</style>\n",
       "<table border=\"1\" class=\"dataframe\">\n",
       "  <thead>\n",
       "    <tr style=\"text-align: right;\">\n",
       "      <th></th>\n",
       "      <th>Id</th>\n",
       "      <th>MSSubClass</th>\n",
       "      <th>MSZoning</th>\n",
       "      <th>LotFrontage</th>\n",
       "      <th>LotArea</th>\n",
       "      <th>Street</th>\n",
       "      <th>Alley</th>\n",
       "      <th>LotShape</th>\n",
       "      <th>LandContour</th>\n",
       "      <th>Utilities</th>\n",
       "      <th>...</th>\n",
       "      <th>PoolArea</th>\n",
       "      <th>PoolQC</th>\n",
       "      <th>Fence</th>\n",
       "      <th>MiscFeature</th>\n",
       "      <th>MiscVal</th>\n",
       "      <th>MoSold</th>\n",
       "      <th>YrSold</th>\n",
       "      <th>SaleType</th>\n",
       "      <th>SaleCondition</th>\n",
       "      <th>SalePrice</th>\n",
       "    </tr>\n",
       "  </thead>\n",
       "  <tbody>\n",
       "    <tr>\n",
       "      <th>0</th>\n",
       "      <td>1</td>\n",
       "      <td>60</td>\n",
       "      <td>RL</td>\n",
       "      <td>65.0</td>\n",
       "      <td>8450</td>\n",
       "      <td>Pave</td>\n",
       "      <td>NaN</td>\n",
       "      <td>Reg</td>\n",
       "      <td>Lvl</td>\n",
       "      <td>AllPub</td>\n",
       "      <td>...</td>\n",
       "      <td>0</td>\n",
       "      <td>NaN</td>\n",
       "      <td>NaN</td>\n",
       "      <td>NaN</td>\n",
       "      <td>0</td>\n",
       "      <td>2</td>\n",
       "      <td>2008</td>\n",
       "      <td>WD</td>\n",
       "      <td>Normal</td>\n",
       "      <td>208500</td>\n",
       "    </tr>\n",
       "    <tr>\n",
       "      <th>1</th>\n",
       "      <td>2</td>\n",
       "      <td>20</td>\n",
       "      <td>RL</td>\n",
       "      <td>80.0</td>\n",
       "      <td>9600</td>\n",
       "      <td>Pave</td>\n",
       "      <td>NaN</td>\n",
       "      <td>Reg</td>\n",
       "      <td>Lvl</td>\n",
       "      <td>AllPub</td>\n",
       "      <td>...</td>\n",
       "      <td>0</td>\n",
       "      <td>NaN</td>\n",
       "      <td>NaN</td>\n",
       "      <td>NaN</td>\n",
       "      <td>0</td>\n",
       "      <td>5</td>\n",
       "      <td>2007</td>\n",
       "      <td>WD</td>\n",
       "      <td>Normal</td>\n",
       "      <td>181500</td>\n",
       "    </tr>\n",
       "    <tr>\n",
       "      <th>2</th>\n",
       "      <td>3</td>\n",
       "      <td>60</td>\n",
       "      <td>RL</td>\n",
       "      <td>68.0</td>\n",
       "      <td>11250</td>\n",
       "      <td>Pave</td>\n",
       "      <td>NaN</td>\n",
       "      <td>IR1</td>\n",
       "      <td>Lvl</td>\n",
       "      <td>AllPub</td>\n",
       "      <td>...</td>\n",
       "      <td>0</td>\n",
       "      <td>NaN</td>\n",
       "      <td>NaN</td>\n",
       "      <td>NaN</td>\n",
       "      <td>0</td>\n",
       "      <td>9</td>\n",
       "      <td>2008</td>\n",
       "      <td>WD</td>\n",
       "      <td>Normal</td>\n",
       "      <td>223500</td>\n",
       "    </tr>\n",
       "    <tr>\n",
       "      <th>3</th>\n",
       "      <td>4</td>\n",
       "      <td>70</td>\n",
       "      <td>RL</td>\n",
       "      <td>60.0</td>\n",
       "      <td>9550</td>\n",
       "      <td>Pave</td>\n",
       "      <td>NaN</td>\n",
       "      <td>IR1</td>\n",
       "      <td>Lvl</td>\n",
       "      <td>AllPub</td>\n",
       "      <td>...</td>\n",
       "      <td>0</td>\n",
       "      <td>NaN</td>\n",
       "      <td>NaN</td>\n",
       "      <td>NaN</td>\n",
       "      <td>0</td>\n",
       "      <td>2</td>\n",
       "      <td>2006</td>\n",
       "      <td>WD</td>\n",
       "      <td>Abnorml</td>\n",
       "      <td>140000</td>\n",
       "    </tr>\n",
       "    <tr>\n",
       "      <th>4</th>\n",
       "      <td>5</td>\n",
       "      <td>60</td>\n",
       "      <td>RL</td>\n",
       "      <td>84.0</td>\n",
       "      <td>14260</td>\n",
       "      <td>Pave</td>\n",
       "      <td>NaN</td>\n",
       "      <td>IR1</td>\n",
       "      <td>Lvl</td>\n",
       "      <td>AllPub</td>\n",
       "      <td>...</td>\n",
       "      <td>0</td>\n",
       "      <td>NaN</td>\n",
       "      <td>NaN</td>\n",
       "      <td>NaN</td>\n",
       "      <td>0</td>\n",
       "      <td>12</td>\n",
       "      <td>2008</td>\n",
       "      <td>WD</td>\n",
       "      <td>Normal</td>\n",
       "      <td>250000</td>\n",
       "    </tr>\n",
       "  </tbody>\n",
       "</table>\n",
       "<p>5 rows × 81 columns</p>\n",
       "</div>"
      ],
      "text/plain": [
       "   Id  MSSubClass MSZoning  LotFrontage  LotArea Street Alley LotShape  \\\n",
       "0   1          60       RL         65.0     8450   Pave   NaN      Reg   \n",
       "1   2          20       RL         80.0     9600   Pave   NaN      Reg   \n",
       "2   3          60       RL         68.0    11250   Pave   NaN      IR1   \n",
       "3   4          70       RL         60.0     9550   Pave   NaN      IR1   \n",
       "4   5          60       RL         84.0    14260   Pave   NaN      IR1   \n",
       "\n",
       "  LandContour Utilities  ... PoolArea PoolQC Fence MiscFeature MiscVal MoSold  \\\n",
       "0         Lvl    AllPub  ...        0    NaN   NaN         NaN       0      2   \n",
       "1         Lvl    AllPub  ...        0    NaN   NaN         NaN       0      5   \n",
       "2         Lvl    AllPub  ...        0    NaN   NaN         NaN       0      9   \n",
       "3         Lvl    AllPub  ...        0    NaN   NaN         NaN       0      2   \n",
       "4         Lvl    AllPub  ...        0    NaN   NaN         NaN       0     12   \n",
       "\n",
       "  YrSold  SaleType  SaleCondition  SalePrice  \n",
       "0   2008        WD         Normal     208500  \n",
       "1   2007        WD         Normal     181500  \n",
       "2   2008        WD         Normal     223500  \n",
       "3   2006        WD        Abnorml     140000  \n",
       "4   2008        WD         Normal     250000  \n",
       "\n",
       "[5 rows x 81 columns]"
      ]
     },
     "execution_count": 2,
     "metadata": {},
     "output_type": "execute_result"
    }
   ],
   "source": [
    "data = pd.read_csv('data/housing/train.csv')\n",
    "test_data = pd.read_csv('data/housing/test.csv')\n",
    "data.head()"
   ]
  },
  {
   "cell_type": "markdown",
   "id": "181551ea",
   "metadata": {},
   "source": [
    "### Understanding Dataset"
   ]
  },
  {
   "cell_type": "code",
   "execution_count": 3,
   "id": "99598b76",
   "metadata": {},
   "outputs": [
    {
     "name": "stdout",
     "output_type": "stream",
     "text": [
      "Id ,MSSubClass ,MSZoning ,LotFrontage ,LotArea ,Street ,Alley ,LotShape ,LandContour ,Utilities ,LotConfig ,LandSlope ,Neighborhood ,Condition1 ,Condition2 ,BldgType ,HouseStyle ,OverallQual ,OverallCond ,YearBuilt ,YearRemodAdd ,RoofStyle ,RoofMatl ,Exterior1st ,Exterior2nd ,MasVnrType ,MasVnrArea ,ExterQual ,ExterCond ,Foundation ,BsmtQual ,BsmtCond ,BsmtExposure ,BsmtFinType1 ,BsmtFinSF1 ,BsmtFinType2 ,BsmtFinSF2 ,BsmtUnfSF ,TotalBsmtSF ,Heating ,HeatingQC ,CentralAir ,Electrical ,1stFlrSF ,2ndFlrSF ,LowQualFinSF ,GrLivArea ,BsmtFullBath ,BsmtHalfBath ,FullBath ,HalfBath ,BedroomAbvGr ,KitchenAbvGr ,KitchenQual ,TotRmsAbvGrd ,Functional ,Fireplaces ,FireplaceQu ,GarageType ,GarageYrBlt ,GarageFinish ,GarageCars ,GarageArea ,GarageQual ,GarageCond ,PavedDrive ,WoodDeckSF ,OpenPorchSF ,EnclosedPorch ,3SsnPorch ,ScreenPorch ,PoolArea ,PoolQC ,Fence ,MiscFeature ,MiscVal ,MoSold ,YrSold ,SaleType ,SaleCondition ,SalePrice ,"
     ]
    }
   ],
   "source": [
    "for col in data.columns:\n",
    "    print(col, end =\" ,\")"
   ]
  },
  {
   "cell_type": "markdown",
   "id": "0e5f578b",
   "metadata": {},
   "source": [
    "We will use only these columns: `LotArea`, `BedroomAbvGr`, `YearBuilt`, `1stFlrSF`, `2ndFlrSF`, and `SalePrice`"
   ]
  },
  {
   "cell_type": "code",
   "execution_count": 4,
   "id": "bc14adad",
   "metadata": {},
   "outputs": [
    {
     "name": "stdout",
     "output_type": "stream",
     "text": [
      "False\n"
     ]
    },
    {
     "data": {
      "text/html": [
       "<div>\n",
       "<style scoped>\n",
       "    .dataframe tbody tr th:only-of-type {\n",
       "        vertical-align: middle;\n",
       "    }\n",
       "\n",
       "    .dataframe tbody tr th {\n",
       "        vertical-align: top;\n",
       "    }\n",
       "\n",
       "    .dataframe thead th {\n",
       "        text-align: right;\n",
       "    }\n",
       "</style>\n",
       "<table border=\"1\" class=\"dataframe\">\n",
       "  <thead>\n",
       "    <tr style=\"text-align: right;\">\n",
       "      <th></th>\n",
       "      <th>LotArea</th>\n",
       "      <th>BedroomAbvGr</th>\n",
       "      <th>YearBuilt</th>\n",
       "      <th>1stFlrSF</th>\n",
       "      <th>2ndFlrSF</th>\n",
       "      <th>SalePrice</th>\n",
       "    </tr>\n",
       "  </thead>\n",
       "  <tbody>\n",
       "    <tr>\n",
       "      <th>count</th>\n",
       "      <td>1460.000000</td>\n",
       "      <td>1460.000000</td>\n",
       "      <td>1460.000000</td>\n",
       "      <td>1460.000000</td>\n",
       "      <td>1460.000000</td>\n",
       "      <td>1460.000000</td>\n",
       "    </tr>\n",
       "    <tr>\n",
       "      <th>mean</th>\n",
       "      <td>10516.828082</td>\n",
       "      <td>2.866438</td>\n",
       "      <td>1971.267808</td>\n",
       "      <td>1162.626712</td>\n",
       "      <td>346.992466</td>\n",
       "      <td>180921.195890</td>\n",
       "    </tr>\n",
       "    <tr>\n",
       "      <th>std</th>\n",
       "      <td>9981.264932</td>\n",
       "      <td>0.815778</td>\n",
       "      <td>30.202904</td>\n",
       "      <td>386.587738</td>\n",
       "      <td>436.528436</td>\n",
       "      <td>79442.502883</td>\n",
       "    </tr>\n",
       "    <tr>\n",
       "      <th>min</th>\n",
       "      <td>1300.000000</td>\n",
       "      <td>0.000000</td>\n",
       "      <td>1872.000000</td>\n",
       "      <td>334.000000</td>\n",
       "      <td>0.000000</td>\n",
       "      <td>34900.000000</td>\n",
       "    </tr>\n",
       "    <tr>\n",
       "      <th>25%</th>\n",
       "      <td>7553.500000</td>\n",
       "      <td>2.000000</td>\n",
       "      <td>1954.000000</td>\n",
       "      <td>882.000000</td>\n",
       "      <td>0.000000</td>\n",
       "      <td>129975.000000</td>\n",
       "    </tr>\n",
       "    <tr>\n",
       "      <th>50%</th>\n",
       "      <td>9478.500000</td>\n",
       "      <td>3.000000</td>\n",
       "      <td>1973.000000</td>\n",
       "      <td>1087.000000</td>\n",
       "      <td>0.000000</td>\n",
       "      <td>163000.000000</td>\n",
       "    </tr>\n",
       "    <tr>\n",
       "      <th>75%</th>\n",
       "      <td>11601.500000</td>\n",
       "      <td>3.000000</td>\n",
       "      <td>2000.000000</td>\n",
       "      <td>1391.250000</td>\n",
       "      <td>728.000000</td>\n",
       "      <td>214000.000000</td>\n",
       "    </tr>\n",
       "    <tr>\n",
       "      <th>max</th>\n",
       "      <td>215245.000000</td>\n",
       "      <td>8.000000</td>\n",
       "      <td>2010.000000</td>\n",
       "      <td>4692.000000</td>\n",
       "      <td>2065.000000</td>\n",
       "      <td>755000.000000</td>\n",
       "    </tr>\n",
       "  </tbody>\n",
       "</table>\n",
       "</div>"
      ],
      "text/plain": [
       "             LotArea  BedroomAbvGr    YearBuilt     1stFlrSF     2ndFlrSF  \\\n",
       "count    1460.000000   1460.000000  1460.000000  1460.000000  1460.000000   \n",
       "mean    10516.828082      2.866438  1971.267808  1162.626712   346.992466   \n",
       "std      9981.264932      0.815778    30.202904   386.587738   436.528436   \n",
       "min      1300.000000      0.000000  1872.000000   334.000000     0.000000   \n",
       "25%      7553.500000      2.000000  1954.000000   882.000000     0.000000   \n",
       "50%      9478.500000      3.000000  1973.000000  1087.000000     0.000000   \n",
       "75%     11601.500000      3.000000  2000.000000  1391.250000   728.000000   \n",
       "max    215245.000000      8.000000  2010.000000  4692.000000  2065.000000   \n",
       "\n",
       "           SalePrice  \n",
       "count    1460.000000  \n",
       "mean   180921.195890  \n",
       "std     79442.502883  \n",
       "min     34900.000000  \n",
       "25%    129975.000000  \n",
       "50%    163000.000000  \n",
       "75%    214000.000000  \n",
       "max    755000.000000  "
      ]
     },
     "execution_count": 4,
     "metadata": {},
     "output_type": "execute_result"
    }
   ],
   "source": [
    "data = data[['LotArea', 'BedroomAbvGr', 'YearBuilt', '1stFlrSF', '2ndFlrSF', 'SalePrice']]\n",
    "print(data.isnull().values.any())\n",
    "data.describe()"
   ]
  },
  {
   "cell_type": "markdown",
   "id": "6e601aeb",
   "metadata": {},
   "source": [
    "### Feature Engineering"
   ]
  },
  {
   "cell_type": "code",
   "execution_count": 5,
   "id": "842ac7f4",
   "metadata": {},
   "outputs": [
    {
     "data": {
      "text/html": [
       "<div>\n",
       "<style scoped>\n",
       "    .dataframe tbody tr th:only-of-type {\n",
       "        vertical-align: middle;\n",
       "    }\n",
       "\n",
       "    .dataframe tbody tr th {\n",
       "        vertical-align: top;\n",
       "    }\n",
       "\n",
       "    .dataframe thead th {\n",
       "        text-align: right;\n",
       "    }\n",
       "</style>\n",
       "<table border=\"1\" class=\"dataframe\">\n",
       "  <thead>\n",
       "    <tr style=\"text-align: right;\">\n",
       "      <th></th>\n",
       "      <th>area</th>\n",
       "      <th>age</th>\n",
       "      <th>bedrooms</th>\n",
       "      <th>floors</th>\n",
       "      <th>price</th>\n",
       "    </tr>\n",
       "  </thead>\n",
       "  <tbody>\n",
       "    <tr>\n",
       "      <th>count</th>\n",
       "      <td>1460.000000</td>\n",
       "      <td>1460.000000</td>\n",
       "      <td>1460.000000</td>\n",
       "      <td>1460.000000</td>\n",
       "      <td>1460.000000</td>\n",
       "    </tr>\n",
       "    <tr>\n",
       "      <th>mean</th>\n",
       "      <td>10516.828082</td>\n",
       "      <td>51.732192</td>\n",
       "      <td>2.866438</td>\n",
       "      <td>1.432192</td>\n",
       "      <td>180921.195890</td>\n",
       "    </tr>\n",
       "    <tr>\n",
       "      <th>std</th>\n",
       "      <td>9981.264932</td>\n",
       "      <td>30.202904</td>\n",
       "      <td>0.815778</td>\n",
       "      <td>0.495550</td>\n",
       "      <td>79442.502883</td>\n",
       "    </tr>\n",
       "    <tr>\n",
       "      <th>min</th>\n",
       "      <td>1300.000000</td>\n",
       "      <td>13.000000</td>\n",
       "      <td>0.000000</td>\n",
       "      <td>1.000000</td>\n",
       "      <td>34900.000000</td>\n",
       "    </tr>\n",
       "    <tr>\n",
       "      <th>25%</th>\n",
       "      <td>7553.500000</td>\n",
       "      <td>23.000000</td>\n",
       "      <td>2.000000</td>\n",
       "      <td>1.000000</td>\n",
       "      <td>129975.000000</td>\n",
       "    </tr>\n",
       "    <tr>\n",
       "      <th>50%</th>\n",
       "      <td>9478.500000</td>\n",
       "      <td>50.000000</td>\n",
       "      <td>3.000000</td>\n",
       "      <td>1.000000</td>\n",
       "      <td>163000.000000</td>\n",
       "    </tr>\n",
       "    <tr>\n",
       "      <th>75%</th>\n",
       "      <td>11601.500000</td>\n",
       "      <td>69.000000</td>\n",
       "      <td>3.000000</td>\n",
       "      <td>2.000000</td>\n",
       "      <td>214000.000000</td>\n",
       "    </tr>\n",
       "    <tr>\n",
       "      <th>max</th>\n",
       "      <td>215245.000000</td>\n",
       "      <td>151.000000</td>\n",
       "      <td>8.000000</td>\n",
       "      <td>2.000000</td>\n",
       "      <td>755000.000000</td>\n",
       "    </tr>\n",
       "  </tbody>\n",
       "</table>\n",
       "</div>"
      ],
      "text/plain": [
       "                area          age     bedrooms       floors          price\n",
       "count    1460.000000  1460.000000  1460.000000  1460.000000    1460.000000\n",
       "mean    10516.828082    51.732192     2.866438     1.432192  180921.195890\n",
       "std      9981.264932    30.202904     0.815778     0.495550   79442.502883\n",
       "min      1300.000000    13.000000     0.000000     1.000000   34900.000000\n",
       "25%      7553.500000    23.000000     2.000000     1.000000  129975.000000\n",
       "50%      9478.500000    50.000000     3.000000     1.000000  163000.000000\n",
       "75%     11601.500000    69.000000     3.000000     2.000000  214000.000000\n",
       "max    215245.000000   151.000000     8.000000     2.000000  755000.000000"
      ]
     },
     "execution_count": 5,
     "metadata": {},
     "output_type": "execute_result"
    }
   ],
   "source": [
    "train_data = pd.DataFrame()\n",
    "train_data['area'] = data.LotArea\n",
    "train_data['age'] = 2023 - data.YearBuilt\n",
    "train_data['bedrooms'] = data.BedroomAbvGr\n",
    "train_data['floors'] = data['2ndFlrSF'].map(lambda x: int(x != 0) + 1 ) ## for the sake of simplification but not necessarily better\n",
    "train_data['price'] = data.SalePrice\n",
    "train_data.describe() "
   ]
  },
  {
   "cell_type": "code",
   "execution_count": 6,
   "id": "55fc4848",
   "metadata": {},
   "outputs": [
    {
     "data": {
      "image/png": "[encoded data removed]",
      "text/plain": [
       "<Figure size 864x216 with 4 Axes>"
      ]
     },
     "metadata": {
      "needs_background": "light"
     },
     "output_type": "display_data"
    }
   ],
   "source": [
    "features = list(train_data.columns)\n",
    "fig,ax=plt.subplots(1, 4, figsize=(12, 3), sharey=True)\n",
    "for i in range(len(ax)):\n",
    "    ax[i].scatter(train_data.loc[:,features[i]],train_data.price)\n",
    "    ax[i].set_xlabel(features[i])\n",
    "ax[0].set_ylabel(\"Price (1000's)\")\n",
    "plt.show()"
   ]
  },
  {
   "cell_type": "markdown",
   "id": "8aece704",
   "metadata": {},
   "source": [
    "### Feature Scaling"
   ]
  },
  {
   "cell_type": "code",
   "execution_count": 131,
   "id": "6a868fda",
   "metadata": {},
   "outputs": [],
   "source": [
    "def normalize_min_max(x, min_x, max_x):\n",
    "    return (x - min_x)/(max_x - min_x)"
   ]
  },
  {
   "cell_type": "code",
   "execution_count": 132,
   "id": "2772440d",
   "metadata": {},
   "outputs": [],
   "source": [
    "def normalize_mean(x, min_x, max_x, mean_x):\n",
    "    return (x - mean_x)/(max_ - min_x)"
   ]
  },
  {
   "cell_type": "code",
   "execution_count": 39,
   "id": "bc409fce",
   "metadata": {},
   "outputs": [],
   "source": [
    "def normalize_z_score(x):\n",
    "    return (x - np.mean(x)) / np.std(x) "
   ]
  },
  {
   "cell_type": "code",
   "execution_count": 41,
   "id": "711b7928",
   "metadata": {},
   "outputs": [],
   "source": [
    "def normalize_data(df, normalization_function):\n",
    "    X_train = pd.DataFrame()\n",
    "\n",
    "    for i in range(4):\n",
    "        x = train_data[features[i]]\n",
    "        mean_arr[i] = np.mean(x)\n",
    "        std_arr[i] = np.std(x)\n",
    "\n",
    "        X_train[features[i]] = normalization_function(x)\n",
    "    X_train = X_train.to_numpy()\n",
    "\n",
    "    return X_train"
   ]
  },
  {
   "cell_type": "markdown",
   "id": "0cdd61ff",
   "metadata": {},
   "source": [
    "## 2. Gradient Descent"
   ]
  },
  {
   "cell_type": "code",
   "execution_count": 44,
   "id": "4c67df4f",
   "metadata": {},
   "outputs": [],
   "source": [
    "def calculate_gradient(X, y, w, b ):\n",
    "    \"\"\"\n",
    "    Calculates gradient for linear regression\n",
    "    Args:\n",
    "        X (ndarray, (m,n)): data, m examples with n features\n",
    "        y (ndarray, (m,)) : target values\n",
    "        w (ndarray, (n,)) : model parameters (weights)\n",
    "        b (scalar)        : model parameter (bias)\n",
    "        \n",
    "    Returns:\n",
    "        dj_dw (ndarray, (n,)): gradient of cost wrt to parameters w.\n",
    "        dj_db (scalar)       : gradient of cost wrt to parameter b.\n",
    "    \"\"\"\n",
    "    m,n = X.shape\n",
    "    dj_dw = np.zeros((n,))\n",
    "    dj_db = 0.\n",
    "    \n",
    "    for i in range(m):\n",
    "        err = (np.dot(w,X[i]) + b) - y[i]\n",
    "        for j in range(n):\n",
    "            dj_dw[j] = dj_dw[j] + err * X[i,j] \n",
    "        dj_db = dj_db + err\n",
    "    \n",
    "    dj_dw = dj_dw / m\n",
    "    dj_db = dj_db / m\n",
    "    \n",
    "    return dj_dw, dj_db"
   ]
  },
  {
   "cell_type": "code",
   "execution_count": 45,
   "id": "3a25ef21",
   "metadata": {},
   "outputs": [],
   "source": [
    "def calculate_cost(X, y, w, b):\n",
    "    \"\"\"\n",
    "    Calculates cost for multiple variable linear regression\n",
    "    Args:\n",
    "        X (ndarray, (m,n)): data, m examples with n features\n",
    "        y (ndarray, (m,)) : target values\n",
    "        w (ndarray, (n,)) : model parameters (weights)\n",
    "        b (scalar)        : model parameters (bias)\n",
    "    \n",
    "    Returns:\n",
    "        cost (scalar)     : cost (error between predictions and target values)\n",
    "    \"\"\"\n",
    "    \n",
    "    m = X.shape[0]\n",
    "    cost = 0.\n",
    "    for i in range(m):\n",
    "        p = (np.dot(w, X[i]) + b) ## prediction\n",
    "        cost = cost + (p - y[i])**2\n",
    "    cost = cost / (2 * m)\n",
    "    return cost   "
   ]
  },
  {
   "cell_type": "code",
   "execution_count": 46,
   "id": "374986c3",
   "metadata": {},
   "outputs": [],
   "source": [
    "def gradient_descent(X, y, w_in, b_in, cost_function, gradient_function, alpha, num_iters):\n",
    "    \"\"\"\n",
    "    Performs gradient descent by updating w, b using alpha.\n",
    "    Args:\n",
    "        X    (ndarray, (m,n)): data, m examples with n features\n",
    "        y    (ndarray, (m,)) : target values\n",
    "        w_in (ndarray (n,))  : initial values for model parameters (weights)\n",
    "        b_in (scalar)        : initial value for model parameter (bias)\n",
    "        cost_fuction         : function that calculates cost\n",
    "        gradient_function    : function that calculates gradients\n",
    "        alpha (float)        : learning rate\n",
    "        num_iters (int)      : number of iterations to run gradient descent\n",
    "        \n",
    "    Returns:\n",
    "        w (ndarray, (m,n))   : updated values for model parameters (weights)\n",
    "        b (scalar)           : updates value for model parameter (bias)\n",
    "    \"\"\"\n",
    "    w = w_in\n",
    "    b = b_in\n",
    "    loss_history = []\n",
    "    \n",
    "    for i in range(num_iters):\n",
    "        dj_dw, dj_db = gradient_function(X,y ,w, b)\n",
    "        w = w - alpha * dj_dw\n",
    "        b = b - alpha * dj_db\n",
    "        \n",
    "        ## compute loss\n",
    "        loss_history.append(cost_function(X, y, w, b))\n",
    "        \n",
    "        if (i % math.ceil(num_iters/10) == 0):\n",
    "            print(f\"Iteration: {i:4d}, loss: {loss_history[-1]:0.2f}\")\n",
    "            \n",
    "    return w, b, loss_history        "
   ]
  },
  {
   "cell_type": "markdown",
   "id": "4bc2c911",
   "metadata": {},
   "source": [
    "## 3. Train"
   ]
  },
  {
   "cell_type": "markdown",
   "id": "d771283e",
   "metadata": {},
   "source": [
    "### Using Z-Score"
   ]
  },
  {
   "cell_type": "code",
   "execution_count": 61,
   "id": "2a886509",
   "metadata": {},
   "outputs": [
    {
     "name": "stdout",
     "output_type": "stream",
     "text": [
      "Iteration:    0, loss: 19498523863.99\n",
      "Iteration: 1000, loss: 7221915766.68\n",
      "Iteration: 2000, loss: 3529068525.21\n",
      "Iteration: 3000, loss: 2417401466.75\n",
      "Iteration: 4000, loss: 2082527268.61\n",
      "Iteration: 5000, loss: 1981575563.72\n",
      "Iteration: 6000, loss: 1951112337.86\n",
      "Iteration: 7000, loss: 1941906290.02\n",
      "Iteration: 8000, loss: 1939117846.67\n",
      "Iteration: 9000, loss: 1938270156.23\n",
      "[ 19023.47913919 -42854.81966676   9659.80760464  10728.74846471] 180473.54390453442\n"
     ]
    }
   ],
   "source": [
    "X_train = normalize_data(train_data,normalize_z_score)\n",
    "m, n = X_train.shape\n",
    "y_train = train_data.price\n",
    "initial_w = np.zeros(n)\n",
    "initial_b = 0.\n",
    "\n",
    "alpha = 0.0006\n",
    "num_iters = 10000\n",
    "\n",
    "w, b, J_history = gradient_descent(X_train, y_train, initial_w, initial_b, calculate_cost, calculate_gradient, alpha, num_iters)\n",
    "\n",
    "print(w,b)"
   ]
  },
  {
   "cell_type": "markdown",
   "id": "5e031525",
   "metadata": {},
   "source": [
    "### Plot loss"
   ]
  },
  {
   "cell_type": "code",
   "execution_count": 62,
   "id": "bbb22a7f",
   "metadata": {},
   "outputs": [
    {
     "data": {
      "text/plain": [
       "Text(0.5, 0, 'Iterations')"
      ]
     },
     "execution_count": 62,
     "metadata": {},
     "output_type": "execute_result"
    },
    {
     "data": {
      "image/png": "[encoded data removed]",
      "text/plain": [
       "<Figure size 864x288 with 2 Axes>"
      ]
     },
     "metadata": {
      "needs_background": "light"
     },
     "output_type": "display_data"
    }
   ],
   "source": [
    "fig , (ax1, ax2) = plt.subplots(1,2,constrained_layout=True ,figsize=(12,4))\n",
    "ax1.plot(J_history)\n",
    "ax2.plot(100 + np.arange(len(J_history[100:])), J_history[100:])\n",
    "ax1.set_title(\"Cost History\"); ax2.set_title(\"Cost History (tail)\")\n",
    "ax1.set_ylabel(\"Cost\");        ax2.set_ylabel(\"Cost\");\n",
    "ax1.set_xlabel(\"Iterations\");  ax2.set_xlabel(\"Iterations\")"
   ]
  },
  {
   "cell_type": "markdown",
   "id": "144f5d30",
   "metadata": {},
   "source": [
    "### Plot Predictions"
   ]
  },
  {
   "cell_type": "code",
   "execution_count": 63,
   "id": "ab60dfcf",
   "metadata": {},
   "outputs": [
    {
     "data": {
      "image/png": "[encoded data removed]",
      "text/plain": [
       "<Figure size 864x216 with 4 Axes>"
      ]
     },
     "metadata": {
      "needs_background": "light"
     },
     "output_type": "display_data"
    }
   ],
   "source": [
    "prediction = []\n",
    "for i in range(m):\n",
    "    prediction.append(np.dot(w,X_train[i]) + b)\n",
    "\n",
    "fig,ax=plt.subplots(1, 4, figsize=(12, 3), sharey=True)\n",
    "for i in range(len(ax)):\n",
    "    ax[i].scatter(train_data.loc[:,features[i]],train_data.price)\n",
    "    ax[i].scatter(train_data.loc[:,features[i]],prediction)\n",
    "    ax[i].set_xlabel(features[i])\n"
   ]
  },
  {
   "cell_type": "code",
   "execution_count": null,
   "id": "2ae55017",
   "metadata": {},
   "outputs": [],
   "source": []
  }
 ],
 "metadata": {
  "kernelspec": {
   "display_name": "Python 3",
   "language": "python",
   "name": "python3"
  },
  "language_info": {
   "codemirror_mode": {
    "name": "ipython",
    "version": 3
   },
   "file_extension": ".py",
   "mimetype": "text/x-python",
   "name": "python",
   "nbconvert_exporter": "python",
   "pygments_lexer": "ipython3",
   "version": "3.8.7"
  }
 },
 "nbformat": 4,
 "nbformat_minor": 5
}
