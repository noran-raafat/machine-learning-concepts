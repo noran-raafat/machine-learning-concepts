{
 "cells": [
  {
   "cell_type": "code",
   "execution_count": 76,
   "id": "3538278b",
   "metadata": {},
   "outputs": [],
   "source": [
    "import numpy as npS\n",
    "import matplotlib.pyplot as plt\n",
    "import math as math"
   ]
  },
  {
   "cell_type": "markdown",
   "id": "250ff8fe",
   "metadata": {},
   "source": [
    "Multiple variable linear regression equation:\n",
    "$$ f_{\\mathbf{w},b}(\\mathbf{x}) = \\mathbf{w} \\cdot \\mathbf{x} + b  \\tag{2} $$ \n",
    "Cost function with multiple variables:\n",
    "$$J(\\mathbf{w},b) = \\frac{1}{2m} \\sum\\limits_{i = 0}^{m-1} (f_{\\mathbf{w},b}(\\mathbf{x}^{(i)}) - y^{(i)})^2 \\tag{3}$$ \n",
    "Gradient descent with multiple variables:\n",
    "$$\\begin{align*} \\text{repeat}&\\text{ until convergence:} \\; \\lbrace \\newline\\;\n",
    "& w_j = w_j -  \\alpha \\frac{\\partial J(\\mathbf{w},b)}{\\partial w_j} \\tag{5}  \\; & \\text{for j = 0..n-1}\\newline\n",
    "&b\\ \\ = b -  \\alpha \\frac{\\partial J(\\mathbf{w},b)}{\\partial b}  \\newline \\rbrace\n",
    "\\end{align*}$$\n",
    "\n",
    "where, n is the number of features, parameters $w_j$,  $b$, are updated simultaneously and where  \n",
    "\n",
    "$$\n",
    "\\begin{align}\n",
    "\\frac{\\partial J(\\mathbf{w},b)}{\\partial w_j}  &= \\frac{1}{m} \\sum\\limits_{i = 0}^{m-1} (f_{\\mathbf{w},b}(\\mathbf{x}^{(i)}) - y^{(i)})x_{j}^{(i)} \\tag{6}  \\\\\n",
    "\\frac{\\partial J(\\mathbf{w},b)}{\\partial b}  &= \\frac{1}{m} \\sum\\limits_{i = 0}^{m-1} (f_{\\mathbf{w},b}(\\mathbf{x}^{(i)}) - y^{(i)}) \\tag{7}\n",
    "\\end{align}\n",
    "$$\n",
    "* m is the number of training examples in the data set\n",
    "* $\\frac{\\partial J(\\mathbf{w},b)}{\\partial w_j}$ and $\\frac{\\partial J(\\mathbf{w},b)}{\\partial b}$ are gradients\n"
   ]
  },
  {
   "cell_type": "code",
   "execution_count": 108,
   "id": "221e80f6",
   "metadata": {},
   "outputs": [],
   "source": [
    "def calculate_gradient(X, y, w, b ):\n",
    "    \"\"\"\n",
    "    Calculates gradient for linear regression\n",
    "    Args:\n",
    "        X (ndarray, (m,n)): data, m examples with n features\n",
    "        y (ndarray, (m,)) : target values\n",
    "        w (ndarray, (n,)) : model parameters (weights)\n",
    "        b (scalar)        : model parameter (bias)\n",
    "        \n",
    "    Returns:\n",
    "        dj_dw (ndarray, (n,)): gradient of cost wrt to parameters w.\n",
    "        dj_db (scalar)       : gradient of cost wrt to parameter b.\n",
    "    \"\"\"\n",
    "    m,n = X.shape\n",
    "    dj_dw = np.zeros((n,))\n",
    "    dj_db = 0.\n",
    "    \n",
    "    for i in range(m):\n",
    "        err = (np.dot(w,X[i]) + b) - y[i]\n",
    "        for j in range(n):\n",
    "            dj_dw[j] = dj_dw[j] + err * X[i,j] \n",
    "        dj_db = dj_db + err\n",
    "    \n",
    "    dj_dw = dj_dw / m\n",
    "    dj_db = dj_db / m\n",
    "    \n",
    "    return dj_dw, dj_db"
   ]
  },
  {
   "cell_type": "code",
   "execution_count": 109,
   "id": "0259ca16",
   "metadata": {},
   "outputs": [],
   "source": [
    "def calculate_cost(X, y, w, b):\n",
    "    \"\"\"\n",
    "    Calculates cost for multiple variable linear regression\n",
    "    Args:\n",
    "        X (ndarray, (m,n)): data, m examples with n features\n",
    "        y (ndarray, (m,)) : target values\n",
    "        w (ndarray, (n,)) : model parameters (weights)\n",
    "        b (scalar)        : model parameters (bias)\n",
    "    \n",
    "    Returns:\n",
    "        cost (scalar)     : cost (error between predictions and target values)\n",
    "    \"\"\"\n",
    "    \n",
    "    m = X.shape[0]\n",
    "    cost = 0.\n",
    "    for i in range(m):\n",
    "        p = (np.dot(w, X[i]) + b) ## prediction\n",
    "        cost = cost + (p - y[i])**2\n",
    "    cost = cost / (2 * m)\n",
    "    return cost   "
   ]
  },
  {
   "cell_type": "code",
   "execution_count": 141,
   "id": "eddbef55",
   "metadata": {},
   "outputs": [],
   "source": [
    "def gradient_descent(X, y, w_in, b_in, cost_function, gradient_function, alpha, num_iters):\n",
    "    \"\"\"\n",
    "    Performs gradient descent by updating w, b using alpha.\n",
    "    Args:\n",
    "        X    (ndarray, (m,n)): data, m examples with n features\n",
    "        y    (ndarray, (m,)) : target values\n",
    "        w_in (ndarray (n,))  : initial values for model parameters (weights)\n",
    "        b_in (scalar)        : initial value for model parameter (bias)\n",
    "        cost_fuction         : function that calculates cost\n",
    "        gradient_function    : function that calculates gradients\n",
    "        alpha (float)        : learning rate\n",
    "        num_iters (int)      : number of iterations to run gradient descent\n",
    "        \n",
    "    Returns:\n",
    "        w (ndarray, (m,n))   : updated values for model parameters (weights)\n",
    "        b (scalar)           : updates value for model parameter (bias)\n",
    "    \"\"\"\n",
    "    w = w_in\n",
    "    b = b_in\n",
    "    loss_history = []\n",
    "    \n",
    "    for i in range(num_iters):\n",
    "        dj_dw, dj_db = gradient_function(X,y ,w, b)\n",
    "        w = w - alpha * dj_dw\n",
    "        b = b - alpha * dj_db\n",
    "        \n",
    "        ## compute loss\n",
    "        loss_history.append(cost_function(X, y, w, b))\n",
    "        \n",
    "        if (i % math.ceil(num_iters/10) == 0):\n",
    "            print(f\"Iteration: {i:4d}, loss: {loss_history[-1]:0.2f}\")\n",
    "            \n",
    "    return w, b, loss_history        "
   ]
  },
  {
   "cell_type": "code",
   "execution_count": 155,
   "id": "99ab703e",
   "metadata": {},
   "outputs": [
    {
     "name": "stdout",
     "output_type": "stream",
     "text": [
      "Iteration:    0, loss: 2529.46\n",
      "Iteration: 10000, loss: 624.82\n",
      "Iteration: 20000, loss: 594.33\n",
      "Iteration: 30000, loss: 581.01\n",
      "Iteration: 40000, loss: 574.73\n",
      "Iteration: 50000, loss: 571.36\n",
      "Iteration: 60000, loss: 569.18\n",
      "Iteration: 70000, loss: 567.49\n",
      "Iteration: 80000, loss: 566.01\n",
      "Iteration: 90000, loss: 564.61\n",
      "[ 0.24224154  0.28821169 -0.85520022 -1.57622854] -0.04168501764938899\n",
      "prediction: 439.29, target: 460\n",
      "prediction: 279.08, target: 232\n",
      "prediction: 150.90, target: 178\n"
     ]
    }
   ],
   "source": [
    "X_train = np.array([[2104, 5, 1, 45], [1416, 3, 2, 40], [852, 2, 1, 35]])\n",
    "y_train = np.array([460, 232, 178])\n",
    "\n",
    "m, n = X_train.shape\n",
    "initial_w = np.zeros(n)\n",
    "initial_b = 0.\n",
    "\n",
    "alpha = 5.0e-7\n",
    "num_iters = 100000\n",
    "\n",
    "w, b, J_history = gradient_descent(X_train, y_train, initial_w, initial_b, calculate_cost, calculate_gradient, alpha, num_iters)\n",
    "\n",
    "print(w,b)\n",
    "\n",
    "for i in range(m):\n",
    "    prediction = np.dot(w,X_train[i]) + b\n",
    "    print(f\"prediction: {prediction:0.2f}, target: {y_train[i]}\")"
   ]
  },
  {
   "cell_type": "code",
   "execution_count": 156,
   "id": "385950c6",
   "metadata": {},
   "outputs": [
    {
     "data": {
      "text/plain": [
       "Text(0.5, 0, 'Iterations')"
      ]
     },
     "execution_count": 156,
     "metadata": {},
     "output_type": "execute_result"
    },
    {
     "data": {
      "image/png": "[encoded data removed]",
      "text/plain": [
       "<Figure size 864x288 with 2 Axes>"
      ]
     },
     "metadata": {
      "needs_background": "light"
     },
     "output_type": "display_data"
    }
   ],
   "source": [
    "fig , (ax1, ax2) = plt.subplots(1,2,constrained_layout=True ,figsize=(12,4))\n",
    "ax1.plot(J_history)\n",
    "ax2.plot(100 + np.arange(len(J_history[100:])), J_history[100:])\n",
    "ax1.set_title(\"Cost History\"); ax2.set_title(\"Cost History (tail)\")\n",
    "ax1.set_ylabel(\"Cost\");        ax2.set_ylabel(\"Cost\");\n",
    "ax1.set_xlabel(\"Iterations\");  ax2.set_xlabel(\"Iterations\")"
   ]
  },
  {
   "cell_type": "markdown",
   "id": "89ae2052",
   "metadata": {},
   "source": [
    "## Appending vs. assigning in pre-defined array"
   ]
  },
  {
   "cell_type": "code",
   "execution_count": 44,
   "id": "7b7326eb",
   "metadata": {},
   "outputs": [],
   "source": [
    "def time_1(num):\n",
    "    x = []\n",
    "    for i in range(num):\n",
    "        x.append(i)\n",
    "    return x"
   ]
  },
  {
   "cell_type": "code",
   "execution_count": 45,
   "id": "73514f59",
   "metadata": {},
   "outputs": [],
   "source": [
    "def time_2(num):\n",
    "    x = np.zeros(num,dtype=int)\n",
    "    for i in range(num):\n",
    "        x[i] = i\n",
    "    return x"
   ]
  },
  {
   "cell_type": "code",
   "execution_count": 46,
   "id": "6d75cb50",
   "metadata": {},
   "outputs": [
    {
     "name": "stdout",
     "output_type": "stream",
     "text": [
      "[0, 1, 2, 3, 4, 5, 6, 7, 8, 9]\n",
      "[0 1 2 3 4 5 6 7 8 9]\n"
     ]
    }
   ],
   "source": [
    "print(time_1(10))\n",
    "print(time_2(10))"
   ]
  },
  {
   "cell_type": "code",
   "execution_count": 47,
   "id": "ef247b92",
   "metadata": {},
   "outputs": [
    {
     "name": "stdout",
     "output_type": "stream",
     "text": [
      "611 ns ± 31.9 ns per loop (mean ± std. dev. of 7 runs, 1000000 loops each)\n",
      "1.52 µs ± 46.8 ns per loop (mean ± std. dev. of 7 runs, 1000000 loops each)\n"
     ]
    }
   ],
   "source": [
    "%timeit time_1(10)\n",
    "%timeit time_2(10)"
   ]
  },
  {
   "cell_type": "code",
   "execution_count": 48,
   "id": "d247e79e",
   "metadata": {},
   "outputs": [
    {
     "name": "stdout",
     "output_type": "stream",
     "text": [
      "40.8 µs ± 558 ns per loop (mean ± std. dev. of 7 runs, 10000 loops each)\n",
      "55 µs ± 704 ns per loop (mean ± std. dev. of 7 runs, 10000 loops each)\n"
     ]
    }
   ],
   "source": [
    "%timeit time_1(1000)\n",
    "%timeit time_2(1000)"
   ]
  },
  {
   "cell_type": "code",
   "execution_count": 49,
   "id": "f89c6e21",
   "metadata": {},
   "outputs": [
    {
     "name": "stdout",
     "output_type": "stream",
     "text": [
      "4.12 ms ± 80.7 µs per loop (mean ± std. dev. of 7 runs, 100 loops each)\n",
      "5.44 ms ± 40.4 µs per loop (mean ± std. dev. of 7 runs, 100 loops each)\n"
     ]
    }
   ],
   "source": [
    "%timeit time_1(100000)\n",
    "%timeit time_2(100000)"
   ]
  },
  {
   "cell_type": "code",
   "execution_count": 51,
   "id": "49255d63",
   "metadata": {},
   "outputs": [
    {
     "name": "stdout",
     "output_type": "stream",
     "text": [
      "59.5 ms ± 1.37 ms per loop (mean ± std. dev. of 7 runs, 10 loops each)\n",
      "56.9 ms ± 2.01 ms per loop (mean ± std. dev. of 7 runs, 10 loops each)\n"
     ]
    }
   ],
   "source": [
    "%timeit time_1(1000000)\n",
    "%timeit time_2(1000000)"
   ]
  },
  {
   "cell_type": "code",
   "execution_count": 53,
   "id": "9670c21f",
   "metadata": {},
   "outputs": [
    {
     "name": "stdout",
     "output_type": "stream",
     "text": [
      "8697456\n",
      "4000096\n"
     ]
    }
   ],
   "source": [
    "import sys\n",
    "print(sys.getsizeof(time_1(1000000)))\n",
    "print(sys.getsizeof(time_2(1000000)))"
   ]
  }
 ],
 "metadata": {
  "kernelspec": {
   "display_name": "Python 3",
   "language": "python",
   "name": "python3"
  },
  "language_info": {
   "codemirror_mode": {
    "name": "ipython",
    "version": 3
   },
   "file_extension": ".py",
   "mimetype": "text/x-python",
   "name": "python",
   "nbconvert_exporter": "python",
   "pygments_lexer": "ipython3",
   "version": "3.8.7"
  }
 },
 "nbformat": 4,
 "nbformat_minor": 5
}
